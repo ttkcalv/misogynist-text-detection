{
 "cells": [
  {
   "cell_type": "markdown",
   "id": "0e14a6d5",
   "metadata": {},
   "source": [
    "# Project Scenario\n",
    "\n",
    "There has been a lot of complaints regarding hate speech, misogyny, and racism in the definitions found in the database of Urban Dictionary.\n",
    "\n",
    "You decide to manually annotate the definitions and judge whether the definition is misogynistic or otherwise.\n",
    "\n",
    "Misogyny means \"dislike of, contempt for, or ingrained prejudice against women.\", i.e. any definitions that disparage women.\n",
    "\n",
    "In this project, we will use the annotated dataset to build a machine learning model to classify text for misogyny."
   ]
  },
  {
   "cell_type": "markdown",
   "id": "f358016f",
   "metadata": {},
   "source": [
    "### What we'll be doing:\n",
    "In this project, we will do the following:\n",
    "\n",
    "1. Download Urban Dictionary text corpus and clean the data up (Part I)\n",
    "2. Perform wordcloud analysis (Part II)\n",
    "3. Transform the data for feature extraction and apply machine learning techniques to train a model to predict whether an Urban Dictionary definiton contains misogynistic text  (Part III)"
   ]
  },
  {
   "cell_type": "markdown",
   "id": "97fb8a55",
   "metadata": {},
   "source": [
    "### Step 1: Download the dataset and unzip\n",
    "The dataset that we will work with comes from the hard work of Theodore Lynn and her team, who manually annotated Urban Dictionary definitions.\n",
    "\n",
    "The data can be found <a href = 'https://md-datasets-cache-zipfiles-prod.s3.eu-west-1.amazonaws.com/3jfwsdkryy-3.zip'>here</a>\n",
    "\n"
   ]
  },
  {
   "cell_type": "markdown",
   "id": "b3ba4080",
   "metadata": {},
   "source": [
    "### Step 2: Import pandas and relevant libraries"
   ]
  },
  {
   "cell_type": "code",
   "execution_count": 5,
   "id": "a6afcce9",
   "metadata": {},
   "outputs": [],
   "source": [
    "# Step 2: Import libraries\n",
    "import pandas as pd\n",
    "import re\n",
    "import string"
   ]
  },
  {
   "cell_type": "markdown",
   "id": "0aeff28e",
   "metadata": {},
   "source": [
    "### Step 3: Read the CSV as a DataFrame"
   ]
  },
  {
   "cell_type": "code",
   "execution_count": 6,
   "id": "0559962b",
   "metadata": {},
   "outputs": [
    {
     "data": {
      "text/html": [
       "<div>\n",
       "<style scoped>\n",
       "    .dataframe tbody tr th:only-of-type {\n",
       "        vertical-align: middle;\n",
       "    }\n",
       "\n",
       "    .dataframe tbody tr th {\n",
       "        vertical-align: top;\n",
       "    }\n",
       "\n",
       "    .dataframe thead th {\n",
       "        text-align: right;\n",
       "    }\n",
       "</style>\n",
       "<table border=\"1\" class=\"dataframe\">\n",
       "  <thead>\n",
       "    <tr style=\"text-align: right;\">\n",
       "      <th></th>\n",
       "      <th>Definition</th>\n",
       "      <th>is_misogyny</th>\n",
       "    </tr>\n",
       "  </thead>\n",
       "  <tbody>\n",
       "    <tr>\n",
       "      <th>0</th>\n",
       "      <td>Ur gonna die... queer</td>\n",
       "      <td>0.0</td>\n",
       "    </tr>\n",
       "    <tr>\n",
       "      <th>1</th>\n",
       "      <td>Valuptuous man boobs.</td>\n",
       "      <td>0.0</td>\n",
       "    </tr>\n",
       "    <tr>\n",
       "      <th>2</th>\n",
       "      <td>Variation of brother.</td>\n",
       "      <td>0.0</td>\n",
       "    </tr>\n",
       "    <tr>\n",
       "      <th>3</th>\n",
       "      <td>Very impressive penis</td>\n",
       "      <td>0.0</td>\n",
       "    </tr>\n",
       "    <tr>\n",
       "      <th>4</th>\n",
       "      <td>What I call my penis.</td>\n",
       "      <td>0.0</td>\n",
       "    </tr>\n",
       "    <tr>\n",
       "      <th>...</th>\n",
       "      <td>...</td>\n",
       "      <td>...</td>\n",
       "    </tr>\n",
       "    <tr>\n",
       "      <th>2281</th>\n",
       "      <td>A women who is \"easy\"</td>\n",
       "      <td>1.0</td>\n",
       "    </tr>\n",
       "    <tr>\n",
       "      <th>2282</th>\n",
       "      <td>Any hot/ sexy chicks.</td>\n",
       "      <td>1.0</td>\n",
       "    </tr>\n",
       "    <tr>\n",
       "      <th>2283</th>\n",
       "      <td>Any vaginal secretion</td>\n",
       "      <td>1.0</td>\n",
       "    </tr>\n",
       "    <tr>\n",
       "      <th>2284</th>\n",
       "      <td>Person who slaps hoes</td>\n",
       "      <td>1.0</td>\n",
       "    </tr>\n",
       "    <tr>\n",
       "      <th>2285</th>\n",
       "      <td>That hoe out there!!!</td>\n",
       "      <td>1.0</td>\n",
       "    </tr>\n",
       "  </tbody>\n",
       "</table>\n",
       "<p>2286 rows × 2 columns</p>\n",
       "</div>"
      ],
      "text/plain": [
       "                 Definition  is_misogyny\n",
       "0     Ur gonna die... queer          0.0\n",
       "1     Valuptuous man boobs.          0.0\n",
       "2     Variation of brother.          0.0\n",
       "3     Very impressive penis          0.0\n",
       "4     What I call my penis.          0.0\n",
       "...                     ...          ...\n",
       "2281  A women who is \"easy\"          1.0\n",
       "2282  Any hot/ sexy chicks.          1.0\n",
       "2283  Any vaginal secretion          1.0\n",
       "2284  Person who slaps hoes          1.0\n",
       "2285  That hoe out there!!!          1.0\n",
       "\n",
       "[2286 rows x 2 columns]"
      ]
     },
     "execution_count": 6,
     "metadata": {},
     "output_type": "execute_result"
    }
   ],
   "source": [
    "# Step 3: Read the CSV and specify the right encoding\n",
    "df = pd.read_csv('ManualTag_Misogyny.csv', encoding = 'latin-1')\n",
    "df"
   ]
  },
  {
   "cell_type": "markdown",
   "id": "b28f44dc",
   "metadata": {},
   "source": [
    "### Step 4: Find the total number of rows with empty values\n",
    "Let's count the total number of missing data in each column."
   ]
  },
  {
   "cell_type": "code",
   "execution_count": 8,
   "id": "78fbabb3",
   "metadata": {},
   "outputs": [
    {
     "name": "stdout",
     "output_type": "stream",
     "text": [
      "Null values in Definition column: 0\n",
      "Null values in is_misogyny column: 1\n"
     ]
    }
   ],
   "source": [
    "# Step 4: Count the sum of null values in your columns\n",
    "print(\"Null values in Definition column:\", df['Definition'].isnull().any().sum())\n",
    "print(\"Null values in is_misogyny column:\", df['is_misogyny'].isnull().any().sum())"
   ]
  },
  {
   "cell_type": "markdown",
   "id": "c8c38421",
   "metadata": {},
   "source": [
    "### Step 5: Identify where the missing row is\n",
    "Turns out there is almost no missing data, except one particular row."
   ]
  },
  {
   "cell_type": "code",
   "execution_count": 11,
   "id": "5db0f29a",
   "metadata": {},
   "outputs": [
    {
     "data": {
      "text/plain": [
       "1251"
      ]
     },
     "execution_count": 11,
     "metadata": {},
     "output_type": "execute_result"
    }
   ],
   "source": [
    "# Step 5: Find the index of the row containing missing value\n",
    "df[df['is_misogyny'].isnull()].index[0]"
   ]
  },
  {
   "cell_type": "markdown",
   "id": "3b4b622c",
   "metadata": {},
   "source": [
    "### Step 6: Read the definition of the row containing the missing 'is_misogyny' value"
   ]
  },
  {
   "cell_type": "code",
   "execution_count": 13,
   "id": "a0532f8c",
   "metadata": {},
   "outputs": [
    {
     "data": {
      "text/plain": [
       "\"When someone makes a post on Facebook and you and another friend (the double teamers) both comment on the post in order to make fun of the original post. The comments almost always end in smiley faces to express sarcastic joy or happiness. The comments need to be made close together time-wise and should convey a similar message.\\\\n\\\\nThis is often used when a couple are getting too lovey dovey on Facebook and you want to ruin the moment and make it awkward for both of them. It is best to use it when the couple just like each other and aren't going out yet. Use it then for optimum awkwardness. Facebook double teaming is also used to make fun of a dude who is whipped by his girl. [Whit-cheee]\\\\n\\\\nIt can also be used to argue and make fun of people who make stupids posts or statuses.\""
      ]
     },
     "execution_count": 13,
     "metadata": {},
     "output_type": "execute_result"
    }
   ],
   "source": [
    "# Step 6: Read the definition of the row with missing value\n",
    "df.iloc[df[df['is_misogyny'].isnull()].index[0]][0]"
   ]
  },
  {
   "cell_type": "markdown",
   "id": "c1062fad",
   "metadata": {},
   "source": [
    "### Step 7: Replace NaN with the appropriate label\n",
    "Looks like the definition is harmless, replace it with a 0.\n"
   ]
  },
  {
   "cell_type": "code",
   "execution_count": 14,
   "id": "bfd00fb9",
   "metadata": {},
   "outputs": [
    {
     "data": {
      "text/html": [
       "<div>\n",
       "<style scoped>\n",
       "    .dataframe tbody tr th:only-of-type {\n",
       "        vertical-align: middle;\n",
       "    }\n",
       "\n",
       "    .dataframe tbody tr th {\n",
       "        vertical-align: top;\n",
       "    }\n",
       "\n",
       "    .dataframe thead th {\n",
       "        text-align: right;\n",
       "    }\n",
       "</style>\n",
       "<table border=\"1\" class=\"dataframe\">\n",
       "  <thead>\n",
       "    <tr style=\"text-align: right;\">\n",
       "      <th></th>\n",
       "      <th>Definition</th>\n",
       "      <th>is_misogyny</th>\n",
       "    </tr>\n",
       "  </thead>\n",
       "  <tbody>\n",
       "    <tr>\n",
       "      <th>0</th>\n",
       "      <td>Ur gonna die... queer</td>\n",
       "      <td>0.0</td>\n",
       "    </tr>\n",
       "    <tr>\n",
       "      <th>1</th>\n",
       "      <td>Valuptuous man boobs.</td>\n",
       "      <td>0.0</td>\n",
       "    </tr>\n",
       "    <tr>\n",
       "      <th>2</th>\n",
       "      <td>Variation of brother.</td>\n",
       "      <td>0.0</td>\n",
       "    </tr>\n",
       "    <tr>\n",
       "      <th>3</th>\n",
       "      <td>Very impressive penis</td>\n",
       "      <td>0.0</td>\n",
       "    </tr>\n",
       "    <tr>\n",
       "      <th>4</th>\n",
       "      <td>What I call my penis.</td>\n",
       "      <td>0.0</td>\n",
       "    </tr>\n",
       "    <tr>\n",
       "      <th>...</th>\n",
       "      <td>...</td>\n",
       "      <td>...</td>\n",
       "    </tr>\n",
       "    <tr>\n",
       "      <th>2281</th>\n",
       "      <td>A women who is \"easy\"</td>\n",
       "      <td>1.0</td>\n",
       "    </tr>\n",
       "    <tr>\n",
       "      <th>2282</th>\n",
       "      <td>Any hot/ sexy chicks.</td>\n",
       "      <td>1.0</td>\n",
       "    </tr>\n",
       "    <tr>\n",
       "      <th>2283</th>\n",
       "      <td>Any vaginal secretion</td>\n",
       "      <td>1.0</td>\n",
       "    </tr>\n",
       "    <tr>\n",
       "      <th>2284</th>\n",
       "      <td>Person who slaps hoes</td>\n",
       "      <td>1.0</td>\n",
       "    </tr>\n",
       "    <tr>\n",
       "      <th>2285</th>\n",
       "      <td>That hoe out there!!!</td>\n",
       "      <td>1.0</td>\n",
       "    </tr>\n",
       "  </tbody>\n",
       "</table>\n",
       "<p>2286 rows × 2 columns</p>\n",
       "</div>"
      ],
      "text/plain": [
       "                 Definition  is_misogyny\n",
       "0     Ur gonna die... queer          0.0\n",
       "1     Valuptuous man boobs.          0.0\n",
       "2     Variation of brother.          0.0\n",
       "3     Very impressive penis          0.0\n",
       "4     What I call my penis.          0.0\n",
       "...                     ...          ...\n",
       "2281  A women who is \"easy\"          1.0\n",
       "2282  Any hot/ sexy chicks.          1.0\n",
       "2283  Any vaginal secretion          1.0\n",
       "2284  Person who slaps hoes          1.0\n",
       "2285  That hoe out there!!!          1.0\n",
       "\n",
       "[2286 rows x 2 columns]"
      ]
     },
     "execution_count": 14,
     "metadata": {},
     "output_type": "execute_result"
    }
   ],
   "source": [
    "# Step 7: Fill the NaN with 0\n",
    "df = df.fillna(0)\n",
    "df"
   ]
  },
  {
   "cell_type": "markdown",
   "id": "6affa354",
   "metadata": {},
   "source": [
    "### Step 8: Check if your replacement is successful\n",
    "Make sure there's no more NaNs"
   ]
  },
  {
   "cell_type": "code",
   "execution_count": 15,
   "id": "7be2a181",
   "metadata": {},
   "outputs": [
    {
     "name": "stdout",
     "output_type": "stream",
     "text": [
      "Null values in Definition column: 0\n",
      "Null values in is_misogyny column: 0\n"
     ]
    }
   ],
   "source": [
    "# Step 8: Check the sum of nulls again\n",
    "print(\"Null values in Definition column:\", df['Definition'].isnull().any().sum())\n",
    "print(\"Null values in is_misogyny column:\", df['is_misogyny'].isnull().any().sum())"
   ]
  },
  {
   "cell_type": "markdown",
   "id": "77a9e3a9",
   "metadata": {},
   "source": [
    "### Step 9: Count the values for 'is_misogyny' column\n",
    "Let's take a look at the proportion of definitions which are not misogynist and misogynist."
   ]
  },
  {
   "cell_type": "code",
   "execution_count": 16,
   "id": "2a934b06",
   "metadata": {},
   "outputs": [
    {
     "data": {
      "text/plain": [
       "0.0    1252\n",
       "1.0    1034\n",
       "Name: is_misogyny, dtype: int64"
      ]
     },
     "execution_count": 16,
     "metadata": {},
     "output_type": "execute_result"
    }
   ],
   "source": [
    "# Step 9: Count the values for 'is_misogyny' column\n",
    "df['is_misogyny'].value_counts()"
   ]
  },
  {
   "cell_type": "markdown",
   "id": "8ae14710",
   "metadata": {},
   "source": [
    "## Data cleaning\n",
    "We'll be doing two things:\n",
    "1. removing punctuations from our definitions\n",
    "2. lowercasing the text"
   ]
  },
  {
   "cell_type": "markdown",
   "id": "4eafecc9",
   "metadata": {},
   "source": [
    "### Step 10: Remove punctuation from the text\n",
    "We'll start with removing punctuation from all of the values in the 'definition' column. \n",
    "\n",
    "Create a new column named 'cleaned_definition' that contains the text without punctuations."
   ]
  },
  {
   "cell_type": "code",
   "execution_count": 18,
   "id": "767c67e3",
   "metadata": {},
   "outputs": [
    {
     "data": {
      "text/html": [
       "<div>\n",
       "<style scoped>\n",
       "    .dataframe tbody tr th:only-of-type {\n",
       "        vertical-align: middle;\n",
       "    }\n",
       "\n",
       "    .dataframe tbody tr th {\n",
       "        vertical-align: top;\n",
       "    }\n",
       "\n",
       "    .dataframe thead th {\n",
       "        text-align: right;\n",
       "    }\n",
       "</style>\n",
       "<table border=\"1\" class=\"dataframe\">\n",
       "  <thead>\n",
       "    <tr style=\"text-align: right;\">\n",
       "      <th></th>\n",
       "      <th>Definition</th>\n",
       "      <th>is_misogyny</th>\n",
       "      <th>cleaned_definition</th>\n",
       "    </tr>\n",
       "  </thead>\n",
       "  <tbody>\n",
       "    <tr>\n",
       "      <th>0</th>\n",
       "      <td>Ur gonna die... queer</td>\n",
       "      <td>0.0</td>\n",
       "      <td>Ur gonna die queer</td>\n",
       "    </tr>\n",
       "    <tr>\n",
       "      <th>1</th>\n",
       "      <td>Valuptuous man boobs.</td>\n",
       "      <td>0.0</td>\n",
       "      <td>Valuptuous man boobs</td>\n",
       "    </tr>\n",
       "    <tr>\n",
       "      <th>2</th>\n",
       "      <td>Variation of brother.</td>\n",
       "      <td>0.0</td>\n",
       "      <td>Variation of brother</td>\n",
       "    </tr>\n",
       "    <tr>\n",
       "      <th>3</th>\n",
       "      <td>Very impressive penis</td>\n",
       "      <td>0.0</td>\n",
       "      <td>Very impressive penis</td>\n",
       "    </tr>\n",
       "    <tr>\n",
       "      <th>4</th>\n",
       "      <td>What I call my penis.</td>\n",
       "      <td>0.0</td>\n",
       "      <td>What I call my penis</td>\n",
       "    </tr>\n",
       "    <tr>\n",
       "      <th>...</th>\n",
       "      <td>...</td>\n",
       "      <td>...</td>\n",
       "      <td>...</td>\n",
       "    </tr>\n",
       "    <tr>\n",
       "      <th>2281</th>\n",
       "      <td>A women who is \"easy\"</td>\n",
       "      <td>1.0</td>\n",
       "      <td>A women who is easy</td>\n",
       "    </tr>\n",
       "    <tr>\n",
       "      <th>2282</th>\n",
       "      <td>Any hot/ sexy chicks.</td>\n",
       "      <td>1.0</td>\n",
       "      <td>Any hot sexy chicks</td>\n",
       "    </tr>\n",
       "    <tr>\n",
       "      <th>2283</th>\n",
       "      <td>Any vaginal secretion</td>\n",
       "      <td>1.0</td>\n",
       "      <td>Any vaginal secretion</td>\n",
       "    </tr>\n",
       "    <tr>\n",
       "      <th>2284</th>\n",
       "      <td>Person who slaps hoes</td>\n",
       "      <td>1.0</td>\n",
       "      <td>Person who slaps hoes</td>\n",
       "    </tr>\n",
       "    <tr>\n",
       "      <th>2285</th>\n",
       "      <td>That hoe out there!!!</td>\n",
       "      <td>1.0</td>\n",
       "      <td>That hoe out there</td>\n",
       "    </tr>\n",
       "  </tbody>\n",
       "</table>\n",
       "<p>2286 rows × 3 columns</p>\n",
       "</div>"
      ],
      "text/plain": [
       "                 Definition  is_misogyny     cleaned_definition\n",
       "0     Ur gonna die... queer          0.0     Ur gonna die queer\n",
       "1     Valuptuous man boobs.          0.0   Valuptuous man boobs\n",
       "2     Variation of brother.          0.0   Variation of brother\n",
       "3     Very impressive penis          0.0  Very impressive penis\n",
       "4     What I call my penis.          0.0   What I call my penis\n",
       "...                     ...          ...                    ...\n",
       "2281  A women who is \"easy\"          1.0    A women who is easy\n",
       "2282  Any hot/ sexy chicks.          1.0    Any hot sexy chicks\n",
       "2283  Any vaginal secretion          1.0  Any vaginal secretion\n",
       "2284  Person who slaps hoes          1.0  Person who slaps hoes\n",
       "2285  That hoe out there!!!          1.0     That hoe out there\n",
       "\n",
       "[2286 rows x 3 columns]"
      ]
     },
     "execution_count": 18,
     "metadata": {},
     "output_type": "execute_result"
    }
   ],
   "source": [
    "# Step 10: Create a new column that contains no punctuation\n",
    "punct = '!\"#$%&\\'()*+,-./:;<=>?@[\\\\]^_`{}~'   # `|` is not present here\n",
    "transtab = str.maketrans(dict.fromkeys(punct, ''))\n",
    "df['cleaned_definition'] = '|'.join(df['Definition'].tolist()).translate(transtab).split('|')\n",
    "df"
   ]
  },
  {
   "cell_type": "markdown",
   "id": "36754bda",
   "metadata": {},
   "source": [
    "### Step 11: Lower the cases in the new column\n",
    "Next we lower the cases in the values in 'cleaned_definition' so that strings that are in different cases can be counted as the same string in subsequent analyses. "
   ]
  },
  {
   "cell_type": "code",
   "execution_count": 19,
   "id": "50803820",
   "metadata": {},
   "outputs": [
    {
     "data": {
      "text/html": [
       "<div>\n",
       "<style scoped>\n",
       "    .dataframe tbody tr th:only-of-type {\n",
       "        vertical-align: middle;\n",
       "    }\n",
       "\n",
       "    .dataframe tbody tr th {\n",
       "        vertical-align: top;\n",
       "    }\n",
       "\n",
       "    .dataframe thead th {\n",
       "        text-align: right;\n",
       "    }\n",
       "</style>\n",
       "<table border=\"1\" class=\"dataframe\">\n",
       "  <thead>\n",
       "    <tr style=\"text-align: right;\">\n",
       "      <th></th>\n",
       "      <th>Definition</th>\n",
       "      <th>is_misogyny</th>\n",
       "      <th>cleaned_definition</th>\n",
       "    </tr>\n",
       "  </thead>\n",
       "  <tbody>\n",
       "    <tr>\n",
       "      <th>0</th>\n",
       "      <td>Ur gonna die... queer</td>\n",
       "      <td>0.0</td>\n",
       "      <td>ur gonna die queer</td>\n",
       "    </tr>\n",
       "    <tr>\n",
       "      <th>1</th>\n",
       "      <td>Valuptuous man boobs.</td>\n",
       "      <td>0.0</td>\n",
       "      <td>valuptuous man boobs</td>\n",
       "    </tr>\n",
       "    <tr>\n",
       "      <th>2</th>\n",
       "      <td>Variation of brother.</td>\n",
       "      <td>0.0</td>\n",
       "      <td>variation of brother</td>\n",
       "    </tr>\n",
       "    <tr>\n",
       "      <th>3</th>\n",
       "      <td>Very impressive penis</td>\n",
       "      <td>0.0</td>\n",
       "      <td>very impressive penis</td>\n",
       "    </tr>\n",
       "    <tr>\n",
       "      <th>4</th>\n",
       "      <td>What I call my penis.</td>\n",
       "      <td>0.0</td>\n",
       "      <td>what i call my penis</td>\n",
       "    </tr>\n",
       "    <tr>\n",
       "      <th>...</th>\n",
       "      <td>...</td>\n",
       "      <td>...</td>\n",
       "      <td>...</td>\n",
       "    </tr>\n",
       "    <tr>\n",
       "      <th>2281</th>\n",
       "      <td>A women who is \"easy\"</td>\n",
       "      <td>1.0</td>\n",
       "      <td>a women who is easy</td>\n",
       "    </tr>\n",
       "    <tr>\n",
       "      <th>2282</th>\n",
       "      <td>Any hot/ sexy chicks.</td>\n",
       "      <td>1.0</td>\n",
       "      <td>any hot sexy chicks</td>\n",
       "    </tr>\n",
       "    <tr>\n",
       "      <th>2283</th>\n",
       "      <td>Any vaginal secretion</td>\n",
       "      <td>1.0</td>\n",
       "      <td>any vaginal secretion</td>\n",
       "    </tr>\n",
       "    <tr>\n",
       "      <th>2284</th>\n",
       "      <td>Person who slaps hoes</td>\n",
       "      <td>1.0</td>\n",
       "      <td>person who slaps hoes</td>\n",
       "    </tr>\n",
       "    <tr>\n",
       "      <th>2285</th>\n",
       "      <td>That hoe out there!!!</td>\n",
       "      <td>1.0</td>\n",
       "      <td>that hoe out there</td>\n",
       "    </tr>\n",
       "  </tbody>\n",
       "</table>\n",
       "<p>2286 rows × 3 columns</p>\n",
       "</div>"
      ],
      "text/plain": [
       "                 Definition  is_misogyny     cleaned_definition\n",
       "0     Ur gonna die... queer          0.0     ur gonna die queer\n",
       "1     Valuptuous man boobs.          0.0   valuptuous man boobs\n",
       "2     Variation of brother.          0.0   variation of brother\n",
       "3     Very impressive penis          0.0  very impressive penis\n",
       "4     What I call my penis.          0.0   what i call my penis\n",
       "...                     ...          ...                    ...\n",
       "2281  A women who is \"easy\"          1.0    a women who is easy\n",
       "2282  Any hot/ sexy chicks.          1.0    any hot sexy chicks\n",
       "2283  Any vaginal secretion          1.0  any vaginal secretion\n",
       "2284  Person who slaps hoes          1.0  person who slaps hoes\n",
       "2285  That hoe out there!!!          1.0     that hoe out there\n",
       "\n",
       "[2286 rows x 3 columns]"
      ]
     },
     "execution_count": 19,
     "metadata": {},
     "output_type": "execute_result"
    }
   ],
   "source": [
    "# Step 11: Lowercase the values in 'cleaned_definition'\n",
    "df['cleaned_definition'] = df['cleaned_definition'].str.lower()\n",
    "df"
   ]
  },
  {
   "cell_type": "markdown",
   "id": "a05146a0",
   "metadata": {},
   "source": [
    "### Step 12: Export cleaned DataFrame as CSV\n",
    "Now that we've done some basic cleaning, time to export our DataFrame to a CSV file."
   ]
  },
  {
   "cell_type": "code",
   "execution_count": 20,
   "id": "cec8742f",
   "metadata": {},
   "outputs": [],
   "source": [
    "# Step 12: Export the DataFrame to CSV\n",
    "df.to_csv('CleanedMisogyny.csv')"
   ]
  }
 ],
 "metadata": {
  "kernelspec": {
   "display_name": "Python 3 (ipykernel)",
   "language": "python",
   "name": "python3"
  },
  "language_info": {
   "codemirror_mode": {
    "name": "ipython",
    "version": 3
   },
   "file_extension": ".py",
   "mimetype": "text/x-python",
   "name": "python",
   "nbconvert_exporter": "python",
   "pygments_lexer": "ipython3",
   "version": "3.10.2"
  }
 },
 "nbformat": 4,
 "nbformat_minor": 5
}
